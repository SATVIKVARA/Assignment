{
 "cells": [
  {
   "cell_type": "markdown",
   "id": "f992ee59",
   "metadata": {},
   "source": [
    "# My Jupyter Notebook on IBM Watson Studio"
   ]
  },
  {
   "cell_type": "markdown",
   "id": "9ab1f4e0",
   "metadata": {},
   "source": [
    "E.SATVIKVARA\n",
    "Student\n",
    "\n",
    "*I am interested in data science because I can do wonders with data, \n",
    "*I could extract lots of Information and create value with that. Nowadays everything is Connected to Data*"
   ]
  },
  {
   "cell_type": "markdown",
   "id": "3d222e0b",
   "metadata": {},
   "source": [
    "### My code below is going to print out Hello world to you."
   ]
  },
  {
   "cell_type": "code",
   "execution_count": 4,
   "id": "01f8cb8a",
   "metadata": {},
   "outputs": [
    {
     "name": "stdout",
     "output_type": "stream",
     "text": [
      "Hello World\n"
     ]
    }
   ],
   "source": [
    "print('Hello World')"
   ]
  },
  {
   "cell_type": "markdown",
   "id": "94abb56f",
   "metadata": {},
   "source": [
    "The below one is NUmbered List\n",
    "1. hi\n",
    "2. hello\n",
    "3. Bye\n",
    "\n",
    "The below one is strikethrough\n",
    "~~Strike~~\n",
    "\n",
    "The below one is horizontal rule\n",
    "***dude***"
   ]
  },
  {
   "cell_type": "code",
   "execution_count": null,
   "id": "3c39c56e",
   "metadata": {},
   "outputs": [],
   "source": []
  }
 ],
 "metadata": {
  "kernelspec": {
   "display_name": "Python 3 (ipykernel)",
   "language": "python",
   "name": "python3"
  },
  "language_info": {
   "codemirror_mode": {
    "name": "ipython",
    "version": 3
   },
   "file_extension": ".py",
   "mimetype": "text/x-python",
   "name": "python",
   "nbconvert_exporter": "python",
   "pygments_lexer": "ipython3",
   "version": "3.9.12"
  }
 },
 "nbformat": 4,
 "nbformat_minor": 5
}
